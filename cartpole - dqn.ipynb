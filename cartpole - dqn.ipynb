{
 "cells": [
  {
   "cell_type": "code",
   "execution_count": 1,
   "metadata": {
    "collapsed": false
   },
   "outputs": [
    {
     "name": "stderr",
     "output_type": "stream",
     "text": [
      "/Users/mwoods/Developer/open-ai-gym/venv/lib/python2.7/site-packages/matplotlib/font_manager.py:273: UserWarning: Matplotlib is building the font cache using fc-list. This may take a moment.\n",
      "  warnings.warn('Matplotlib is building the font cache using fc-list. This may take a moment.')\n"
     ]
    }
   ],
   "source": [
    "import gym\n",
    "import numpy as np\n",
    "import matplotlib.pyplot as plt\n",
    "import tensorflow as tf"
   ]
  },
  {
   "cell_type": "code",
   "execution_count": 2,
   "metadata": {
    "collapsed": false
   },
   "outputs": [
    {
     "name": "stderr",
     "output_type": "stream",
     "text": [
      "[2017-01-03 15:15:02,013] Making new env: CartPole-v0\n"
     ]
    }
   ],
   "source": [
    "env = gym.make('CartPole-v0')\n",
    "path_to_recording = './tmp/CartPole-v0-gradient'"
   ]
  },
  {
   "cell_type": "code",
   "execution_count": null,
   "metadata": {
    "collapsed": true
   },
   "outputs": [],
   "source": [
    "def DQN():\n",
    "        \"\"\"\n",
    "        4 layer(2 hidden layer) network\n",
    "        input: state array\n",
    "        output: estimated q_values(future reward for choosing that action)\n",
    "        \"\"\"\n",
    "        \n",
    "        state = tf.placeholder(dtype = tf.float32, shape = (None, 4))\n",
    "\n",
    "\n",
    "        state = tf.placeholder(dtype=tf.float32, shape = (None, 4))\n",
    "        Q_actuals = tf.placeholder(dtype=tf.float32, shape = (None, 2))\n",
    "\n",
    "        w1 = tf.Variable(tf.truncated_normal([4, 10]))\n",
    "        b1 = tf.Variable(tf.zeros([10]))\n",
    "        h1 = tf.nn.sigmoid(tf.matmul(state, w1) + b1)\n",
    "\n",
    "        w2 = tf.Variable(tf.random_normal([10, 10]))\n",
    "        b2 = tf.Variable(tf.zeros([10]))\n",
    "        h2 = tf.nn.sigmoid(tf.matmul(h1, w2) + b2)\n",
    "        \n",
    "        w3 = tf.Variable(tf.random_normal([10, 2]))\n",
    "        b3 = tf.Variable(tf.zeros([2]))\n",
    "        Q_est = tf.matmul(h2, w3) + b3\n",
    "\n",
    "        loss = tf.nn.l2_loss(Q_est - Q_actuals)\n",
    "        optimizer = tf.train.AdamOptimizer(0.0001).minimize(loss)\n",
    "    return optimizer, state, Q_actuals, Q_est, loss\n",
    "\n",
    "\n",
    "class ExperienceReplay:\n",
    "    \n",
    "    def __init__(self):\n",
    "        self.memory = []"
   ]
  }
 ],
 "metadata": {
  "kernelspec": {
   "display_name": "Python 2",
   "language": "python",
   "name": "python2"
  },
  "language_info": {
   "codemirror_mode": {
    "name": "ipython",
    "version": 2
   },
   "file_extension": ".py",
   "mimetype": "text/x-python",
   "name": "python",
   "nbconvert_exporter": "python",
   "pygments_lexer": "ipython2",
   "version": "2.7.8"
  }
 },
 "nbformat": 4,
 "nbformat_minor": 2
}
