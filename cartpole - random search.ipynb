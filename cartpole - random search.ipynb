{
 "cells": [
  {
   "cell_type": "code",
   "execution_count": 25,
   "metadata": {
    "collapsed": false
   },
   "outputs": [],
   "source": [
    "import gym\n",
    "import numpy as np\n",
    "import matplotlib.pyplot as plt\n",
    "np.random.seed(42)"
   ]
  },
  {
   "cell_type": "code",
   "execution_count": 26,
   "metadata": {
    "collapsed": false
   },
   "outputs": [
    {
     "name": "stderr",
     "output_type": "stream",
     "text": [
      "[2016-12-28 20:10:54,659] Making new env: CartPole-v0\n"
     ]
    }
   ],
   "source": [
    "env = gym.make('CartPole-v0')\n",
    "path_to_recording = './tmp/CartPole-v0-Random-Search'\n",
    "#env.monitor.start(path_to_recording, force=True)"
   ]
  },
  {
   "cell_type": "code",
   "execution_count": 27,
   "metadata": {
    "collapsed": false
   },
   "outputs": [],
   "source": [
    "state_space_size = env.observation_space.shape[0]\n",
    "get_rand_weights = lambda : np.random.random(4)"
   ]
  },
  {
   "cell_type": "code",
   "execution_count": 37,
   "metadata": {
    "collapsed": true
   },
   "outputs": [],
   "source": [
    "def run_episode(env, weights):\n",
    "    state = env.reset()\n",
    "    total_reward = 0.0\n",
    "    steps = 0.0\n",
    "    while True:\n",
    "        action = 0 if np.sum(state * weights) < 0 else 1\n",
    "        state_prime, reward, is_done, _ = env.step(action)\n",
    "        total_reward += reward\n",
    "        state = state_prime\n",
    "        steps += 1\n",
    "        if is_done or steps > 250:\n",
    "            break\n",
    "    return total_reward\n",
    "    "
   ]
  },
  {
   "cell_type": "code",
   "execution_count": 38,
   "metadata": {
    "collapsed": false
   },
   "outputs": [
    {
     "name": "stdout",
     "output_type": "stream",
     "text": [
      "0 reward 81.0 best reward 81.0\n",
      "1 reward 17361.0 best reward 17361.0\n",
      "found solution\n",
      "testing model\n",
      "weights [ 0.54671028  0.18485446  0.96958463  0.77513282]\n",
      "0 reward 4379.0\n",
      "1 reward 12692.0\n",
      "2 reward 227.0\n",
      "3 reward 296.0\n",
      "4 reward 114426.0\n",
      "5 reward 3238.0\n",
      "6 reward 222.0\n",
      "7 reward 25691.0\n",
      "8 reward 188.0\n",
      "9 reward 123.0\n",
      "10 reward 257.0\n",
      "11 reward 281.0\n",
      "12 reward 249.0\n",
      "13 reward 30205.0\n",
      "14 reward 199.0\n",
      "15 reward 184.0\n",
      "16 reward 185.0\n",
      "17 reward 63136.0\n",
      "18 reward 170208.0\n",
      "19 reward 52092.0\n",
      "20 reward 241.0\n",
      "21 reward 179.0\n",
      "22 reward 4651.0\n",
      "23 reward 247.0\n",
      "24 reward 385.0\n",
      "25 reward 242.0\n",
      "26 reward 194.0\n",
      "27 reward 15217.0\n",
      "28 reward 192.0\n",
      "29 reward 3151.0\n",
      "30 reward 217.0\n",
      "31 reward 252.0\n",
      "32 reward 67679.0\n",
      "33 reward 216.0\n",
      "34 reward 183.0\n",
      "35 reward 349.0\n",
      "36 reward 223.0\n",
      "37 reward 189.0\n",
      "38 reward 239.0\n",
      "39 reward 191.0\n",
      "40 reward 93210.0\n",
      "41 reward 185.0\n",
      "42 reward 115086.0\n",
      "43 reward 216.0\n",
      "44 reward 3360.0\n",
      "45 reward 286.0\n",
      "46 reward 79630.0\n",
      "47 reward 263.0\n",
      "48 reward 182.0\n",
      "49 reward 185.0\n",
      "50 reward 29013.0\n",
      "51 reward 204.0\n",
      "52 reward 209.0\n",
      "53 reward 179.0\n",
      "54 reward 250.0\n",
      "55 reward 189.0\n",
      "56 reward 71579.0\n",
      "57 reward 16114.0\n",
      "58 reward 177.0\n",
      "59 reward 22265.0\n",
      "60 reward 233.0\n",
      "61 reward 192.0\n",
      "62 reward 18093.0\n",
      "63 reward 5976.0\n",
      "64 reward 188.0\n",
      "65 reward 60466.0\n",
      "66 reward 225.0\n",
      "67 reward 234.0\n",
      "68 reward 198.0\n",
      "69 reward 239.0\n",
      "70 reward 192.0\n",
      "71 reward 3214.0\n",
      "72 reward 192.0\n",
      "73 reward 120.0\n",
      "74 reward 185.0\n",
      "75 reward 183.0\n",
      "76 reward 86583.0\n",
      "77 reward 508.0\n",
      "78 reward 240.0\n",
      "79 reward 265.0\n",
      "80 reward 223.0\n",
      "81 reward 178.0\n",
      "82 reward 201.0\n",
      "83 reward 46753.0\n",
      "84 reward 5276.0\n",
      "85 reward 235.0\n",
      "86 reward 78237.0\n",
      "87 reward 58487.0\n",
      "88 reward 122.0\n",
      "89 reward 2143.0\n",
      "90 reward 215.0\n",
      "91 reward 3248.0\n",
      "92 reward 304.0\n",
      "93 reward 142.0\n",
      "94 reward 432.0\n",
      "95 reward 193.0\n",
      "96 reward 176.0\n",
      "97 reward 186.0\n",
      "98 reward 183.0\n",
      "99 reward 181.0\n",
      "100 reward 311.0\n",
      "101 reward 21301.0\n",
      "102 reward 23909.0\n",
      "103 reward 184.0\n",
      "104 reward 196.0\n",
      "105 reward 189.0\n",
      "106 reward 260.0\n",
      "107 reward 181.0\n",
      "108 reward 141.0\n",
      "109 reward 213.0\n",
      "110 reward 212.0\n",
      "111 reward 334917.0\n",
      "112 reward 203.0\n",
      "113 reward 191.0\n",
      "114 reward 195.0\n",
      "115 reward 178.0\n",
      "116 reward 195.0\n",
      "117 reward 137.0\n",
      "118 reward 188.0\n",
      "119 reward 68072.0\n",
      "120 reward 219.0\n",
      "121 reward 26924.0\n",
      "122 reward 140.0\n",
      "123 reward 262.0\n",
      "124 reward 58398.0\n",
      "125 reward 195.0\n",
      "126 reward 240.0\n",
      "127 reward 307.0\n",
      "128 reward 69598.0\n",
      "129 reward 185.0\n",
      "130 reward 8761.0\n",
      "131 reward 47931.0\n",
      "132 reward 187.0\n",
      "133 reward 98585.0\n",
      "134 reward 205.0\n",
      "135 reward 11258.0\n",
      "136 reward 13591.0\n",
      "137 reward 244021.0\n",
      "138 reward 169.0\n",
      "139 reward 248.0\n",
      "140 reward 119.0\n",
      "141 reward 197.0\n",
      "142 reward 199.0\n",
      "143 reward 195.0\n",
      "144 reward 214.0\n",
      "145 reward 182.0\n",
      "146 reward 198.0\n",
      "147 reward 41127.0\n",
      "148 reward 172.0\n",
      "149 reward 194.0\n",
      "150 reward 116759.0\n",
      "151 reward 208192.0\n",
      "152 reward 201.0\n",
      "153 reward 136.0\n",
      "154 reward 871.0\n",
      "155 reward 192.0\n",
      "156 reward 87002.0\n",
      "157 reward 1045.0\n",
      "158 reward 149.0\n",
      "159 reward 189.0\n",
      "160 reward 223.0\n",
      "161 reward 4762.0\n",
      "162 reward 2178.0\n",
      "163 reward 211.0\n",
      "164 reward 189.0\n",
      "165 reward 84829.0\n",
      "166 reward 7130.0\n",
      "167 reward 5246.0\n",
      "168 reward 428.0\n",
      "169 reward 328.0\n",
      "170 reward 180.0\n",
      "171 reward 318.0\n",
      "172 reward 174.0\n",
      "173 reward 256.0\n",
      "174 reward 244.0\n",
      "175 reward 42186.0\n",
      "176 reward 173.0\n",
      "177 reward 241.0\n",
      "178 reward 224.0\n",
      "179 reward 24105.0\n",
      "180 reward 6284.0\n",
      "181 reward 124.0\n",
      "182 reward 280.0\n",
      "183 reward 185.0\n",
      "184 reward 174.0\n",
      "185 reward 207.0\n",
      "186 reward 209.0\n",
      "187 reward 11164.0\n",
      "188 reward 232.0\n",
      "189 reward 193.0\n",
      "190 reward 186.0\n",
      "191 reward 277317.0\n",
      "192 reward 46556.0\n",
      "193 reward 131.0\n",
      "194 reward 256238.0\n",
      "195 reward 59184.0\n",
      "196 reward 443596.0\n",
      "197 reward 190.0\n",
      "198 reward 255.0\n",
      "199 reward 199.0\n"
     ]
    }
   ],
   "source": [
    "best_reward = 0.0\n",
    "best_weights = None\n",
    "for epoch in xrange(10000):\n",
    "    weights = get_rand_weights()\n",
    "    eps_reward = run_episode(env, weights)\n",
    "    if eps_reward > best_reward:\n",
    "        best_reward = eps_reward\n",
    "        best_weights = weights\n",
    "    print epoch, 'reward', eps_reward, 'best reward', best_reward\n",
    "    \n",
    "    if eps_reward > 199.0:\n",
    "        print 'found solution'\n",
    "        break\n",
    "\n",
    "print 'testing model'\n",
    "print 'weights', best_weights\n",
    "rewards = []\n",
    "for i in range(200):\n",
    "    eps_reward = run_episode(env, best_weights)\n",
    "    rewards.append(eps_reward)\n",
    "    print i, 'reward', eps_reward"
   ]
  },
  {
   "cell_type": "code",
   "execution_count": 39,
   "metadata": {
    "collapsed": false
   },
   "outputs": [],
   "source": [
    "def visualize(env, weights):\n",
    "    state = env.reset()\n",
    "    while True:\n",
    "        env.render()\n",
    "        action = 0 if np.sum(state * weights) < 0 else 1\n",
    "        state, _, _, _ = env.step(action)\n",
    "    "
   ]
  },
  {
   "cell_type": "code",
   "execution_count": 40,
   "metadata": {
    "collapsed": false
   },
   "outputs": [
    {
     "data": {
      "image/png": "[encoded data removed]",
      "text/plain": [
       "<matplotlib.figure.Figure at 0x1105a46d0>"
      ]
     },
     "metadata": {},
     "output_type": "display_data"
    }
   ],
   "source": [
    "plt.plot(rewards)\n",
    "plt.show()"
   ]
  },
  {
   "cell_type": "code",
   "execution_count": null,
   "metadata": {
    "collapsed": true
   },
   "outputs": [],
   "source": []
  }
 ],
 "metadata": {
  "kernelspec": {
   "display_name": "Python 2",
   "language": "python",
   "name": "python2"
  },
  "language_info": {
   "codemirror_mode": {
    "name": "ipython",
    "version": 2
   },
   "file_extension": ".py",
   "mimetype": "text/x-python",
   "name": "python",
   "nbconvert_exporter": "python",
   "pygments_lexer": "ipython2",
   "version": "2.7.8"
  }
 },
 "nbformat": 4,
 "nbformat_minor": 2
}
