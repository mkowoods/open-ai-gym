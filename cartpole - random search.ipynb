{
 "cells": [
  {
   "cell_type": "code",
   "execution_count": 8,
   "metadata": {
    "collapsed": false
   },
   "outputs": [],
   "source": [
    "import gym\n",
    "import numpy as np\n",
    "import matplotlib.pyplot as plt\n",
    "np.random.seed(42)"
   ]
  },
  {
   "cell_type": "code",
   "execution_count": 9,
   "metadata": {
    "collapsed": false
   },
   "outputs": [
    {
     "name": "stderr",
     "output_type": "stream",
     "text": [
      "[2016-12-28 20:17:31,761] Making new env: CartPole-v0\n"
     ]
    }
   ],
   "source": [
    "env = gym.make('CartPole-v0')\n",
    "path_to_recording = './tmp/CartPole-v0-Random-Search'\n",
    "#env.monitor.start(path_to_recording, force=True)"
   ]
  },
  {
   "cell_type": "code",
   "execution_count": 10,
   "metadata": {
    "collapsed": false
   },
   "outputs": [],
   "source": [
    "state_space_size = env.observation_space.shape[0]\n",
    "get_rand_weights = lambda : np.random.random(4)"
   ]
  },
  {
   "cell_type": "code",
   "execution_count": 11,
   "metadata": {
    "collapsed": true
   },
   "outputs": [],
   "source": [
    "def run_episode(env, weights):\n",
    "    state = env.reset()\n",
    "    total_reward = 0.0\n",
    "    steps = 0.0\n",
    "    while True:\n",
    "        action = 0 if np.sum(state * weights) < 0 else 1\n",
    "        state_prime, reward, is_done, _ = env.step(action)\n",
    "        total_reward += reward\n",
    "        state = state_prime\n",
    "        steps += 1\n",
    "        if is_done or steps > 500:\n",
    "            break\n",
    "    return total_reward"
   ]
  },
  {
   "cell_type": "code",
   "execution_count": 12,
   "metadata": {
    "collapsed": false
   },
   "outputs": [
    {
     "name": "stdout",
     "output_type": "stream",
     "text": [
      "0 reward 10.0 best reward 10.0\n",
      "1 reward 237.0 best reward 237.0\n",
      "2 reward 80.0 best reward 237.0\n",
      "3 reward 28.0 best reward 237.0\n",
      "4 reward 10.0 best reward 237.0\n",
      "5 reward 82.0 best reward 237.0\n",
      "6 reward 11.0 best reward 237.0\n",
      "7 reward 88.0 best reward 237.0\n",
      "8 reward 501.0 best reward 501.0\n",
      "found solution\n",
      "testing model\n",
      "weights [ 0.06505159  0.94888554  0.96563203  0.80839735]\n",
      "0 reward 501.0\n",
      "1 reward 501.0\n",
      "2 reward 501.0\n",
      "3 reward 501.0\n",
      "4 reward 501.0\n",
      "5 reward 501.0\n",
      "6 reward 501.0\n",
      "7 reward 501.0\n",
      "8 reward 501.0\n",
      "9 reward 501.0\n",
      "10 reward 501.0\n",
      "11 reward 501.0\n",
      "12 reward 501.0\n",
      "13 reward 501.0\n",
      "14 reward 501.0\n",
      "15 reward 501.0\n",
      "16 reward 501.0\n",
      "17 reward 501.0\n",
      "18 reward 501.0\n",
      "19 reward 501.0\n",
      "20 reward 501.0\n",
      "21 reward 501.0\n",
      "22 reward 501.0\n",
      "23 reward 501.0\n",
      "24 reward 501.0\n",
      "25 reward 501.0\n",
      "26 reward 501.0\n",
      "27 reward 501.0\n",
      "28 reward 501.0\n",
      "29 reward 501.0\n",
      "30 reward 501.0\n",
      "31 reward 501.0\n",
      "32 reward 501.0\n",
      "33 reward 501.0\n",
      "34 reward 501.0\n",
      "35 reward 501.0\n",
      "36 reward 501.0\n",
      "37 reward 501.0\n",
      "38 reward 501.0\n",
      "39 reward 501.0\n",
      "40 reward 501.0\n",
      "41 reward 501.0\n",
      "42 reward 501.0\n",
      "43 reward 501.0\n",
      "44 reward 501.0\n",
      "45 reward 501.0\n",
      "46 reward 501.0\n",
      "47 reward 501.0\n",
      "48 reward 501.0\n",
      "49 reward 501.0\n",
      "50 reward 501.0\n",
      "51 reward 501.0\n",
      "52 reward 501.0\n",
      "53 reward 501.0\n",
      "54 reward 501.0\n",
      "55 reward 501.0\n",
      "56 reward 501.0\n",
      "57 reward 501.0\n",
      "58 reward 501.0\n",
      "59 reward 501.0\n",
      "60 reward 501.0\n",
      "61 reward 501.0\n",
      "62 reward 501.0\n",
      "63 reward 501.0\n",
      "64 reward 501.0\n",
      "65 reward 501.0\n",
      "66 reward 501.0\n",
      "67 reward 501.0\n",
      "68 reward 501.0\n",
      "69 reward 501.0\n",
      "70 reward 501.0\n",
      "71 reward 501.0\n",
      "72 reward 501.0\n",
      "73 reward 501.0\n",
      "74 reward 501.0\n",
      "75 reward 501.0\n",
      "76 reward 501.0\n",
      "77 reward 501.0\n",
      "78 reward 501.0\n",
      "79 reward 501.0\n",
      "80 reward 501.0\n",
      "81 reward 501.0\n",
      "82 reward 501.0\n",
      "83 reward 501.0\n",
      "84 reward 501.0\n",
      "85 reward 501.0\n",
      "86 reward 501.0\n",
      "87 reward 501.0\n",
      "88 reward 501.0\n",
      "89 reward 501.0\n",
      "90 reward 501.0\n",
      "91 reward 501.0\n",
      "92 reward 501.0\n",
      "93 reward 501.0\n",
      "94 reward 501.0\n",
      "95 reward 501.0\n",
      "96 reward 501.0\n",
      "97 reward 501.0\n",
      "98 reward 501.0\n",
      "99 reward 501.0\n",
      "100 reward 501.0\n",
      "101 reward 501.0\n",
      "102 reward 501.0\n",
      "103 reward 501.0\n",
      "104 reward 501.0\n",
      "105 reward 501.0\n",
      "106 reward 501.0\n",
      "107 reward 501.0\n",
      "108 reward 501.0\n",
      "109 reward 501.0\n",
      "110 reward 501.0\n",
      "111 reward 501.0\n",
      "112 reward 501.0\n",
      "113 reward 501.0\n",
      "114 reward 501.0\n",
      "115 reward 501.0\n",
      "116 reward 501.0\n",
      "117 reward 501.0\n",
      "118 reward 501.0\n",
      "119 reward 501.0\n",
      "120 reward 501.0\n",
      "121 reward 501.0\n",
      "122 reward 501.0\n",
      "123 reward 501.0\n",
      "124 reward 501.0\n",
      "125 reward 501.0\n",
      "126 reward 501.0\n",
      "127 reward 501.0\n",
      "128 reward 501.0\n",
      "129 reward 501.0\n",
      "130 reward 501.0\n",
      "131 reward 501.0\n",
      "132 reward 501.0\n",
      "133 reward 501.0\n",
      "134 reward 501.0\n",
      "135 reward 501.0\n",
      "136 reward 501.0\n",
      "137 reward 501.0\n",
      "138 reward 501.0\n",
      "139 reward 501.0\n",
      "140 reward 501.0\n",
      "141 reward 501.0\n",
      "142 reward 501.0\n",
      "143 reward 501.0\n",
      "144 reward 501.0\n",
      "145 reward 501.0\n",
      "146 reward 501.0\n",
      "147 reward 501.0\n",
      "148 reward 501.0\n",
      "149 reward 501.0\n",
      "150 reward 501.0\n",
      "151 reward 501.0\n",
      "152 reward 501.0\n",
      "153 reward 501.0\n",
      "154 reward 501.0\n",
      "155 reward 501.0\n",
      "156 reward 501.0\n",
      "157 reward 501.0\n",
      "158 reward 501.0\n",
      "159 reward 501.0\n",
      "160 reward 501.0\n",
      "161 reward 501.0\n",
      "162 reward 501.0\n",
      "163 reward 501.0\n",
      "164 reward 501.0\n",
      "165 reward 501.0\n",
      "166 reward 501.0\n",
      "167 reward 501.0\n",
      "168 reward 501.0\n",
      "169 reward 501.0\n",
      "170 reward 501.0\n",
      "171 reward 501.0\n",
      "172 reward 501.0\n",
      "173 reward 501.0\n",
      "174 reward 501.0\n",
      "175 reward 501.0\n",
      "176 reward 501.0\n",
      "177 reward 501.0\n",
      "178 reward 501.0\n",
      "179 reward 501.0\n",
      "180 reward 501.0\n",
      "181 reward 501.0\n",
      "182 reward 501.0\n",
      "183 reward 501.0\n",
      "184 reward 501.0\n",
      "185 reward 501.0\n",
      "186 reward 501.0\n",
      "187 reward 501.0\n",
      "188 reward 501.0\n",
      "189 reward 501.0\n",
      "190 reward 501.0\n",
      "191 reward 501.0\n",
      "192 reward 501.0\n",
      "193 reward 501.0\n",
      "194 reward 501.0\n",
      "195 reward 501.0\n",
      "196 reward 501.0\n",
      "197 reward 501.0\n",
      "198 reward 501.0\n",
      "199 reward 501.0\n"
     ]
    }
   ],
   "source": [
    "best_reward = 0.0\n",
    "best_weights = None\n",
    "rewards = []\n",
    "for epoch in xrange(10000):\n",
    "    weights = get_rand_weights()\n",
    "    eps_reward = run_episode(env, weights)\n",
    "    rewards.append(eps_reward)\n",
    "    if eps_reward > best_reward:\n",
    "        best_reward = eps_reward\n",
    "        best_weights = weights\n",
    "    print epoch, 'reward', eps_reward, 'best reward', best_reward\n",
    "    \n",
    "    if eps_reward > 300.0:\n",
    "        print 'found solution'\n",
    "        break\n",
    "\n",
    "print 'testing model'\n",
    "print 'weights', best_weights\n",
    "\n",
    "for i in range(200):\n",
    "    eps_reward = run_episode(env, best_weights)\n",
    "    rewards.append(eps_reward)\n",
    "    print i, 'reward', eps_reward"
   ]
  },
  {
   "cell_type": "code",
   "execution_count": 13,
   "metadata": {
    "collapsed": false
   },
   "outputs": [],
   "source": [
    "def visualize(env, weights):\n",
    "    state = env.reset()\n",
    "    while True:\n",
    "        env.render()\n",
    "        action = 0 if np.sum(state * weights) < 0 else 1\n",
    "        state, _, _, _ = env.step(action)"
   ]
  },
  {
   "cell_type": "code",
   "execution_count": 14,
   "metadata": {
    "collapsed": false
   },
   "outputs": [
    {
     "data": {
      "image/png": "[encoded data removed]",
      "text/plain": [
       "<matplotlib.figure.Figure at 0x105ca0b50>"
      ]
     },
     "metadata": {},
     "output_type": "display_data"
    }
   ],
   "source": [
    "plt.plot(rewards)\n",
    "plt.show()"
   ]
  },
  {
   "cell_type": "code",
   "execution_count": null,
   "metadata": {
    "collapsed": true
   },
   "outputs": [],
   "source": [
    ""
   ]
  }
 ],
 "metadata": {
  "kernelspec": {
   "display_name": "Python 2",
   "language": "python",
   "name": "python2"
  },
  "language_info": {
   "codemirror_mode": {
    "name": "ipython",
    "version": 2.0
   },
   "file_extension": ".py",
   "mimetype": "text/x-python",
   "name": "python",
   "nbconvert_exporter": "python",
   "pygments_lexer": "ipython2",
   "version": "2.7.8"
  }
 },
 "nbformat": 4,
 "nbformat_minor": 0
}