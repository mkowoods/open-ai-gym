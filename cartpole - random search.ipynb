{
 "cells": [
  {
   "cell_type": "code",
   "execution_count": 1,
   "metadata": {
    "collapsed": true
   },
   "outputs": [],
   "source": [
    "import gym\n",
    "import numpy as np\n",
    "np.random.seed(42)"
   ]
  },
  {
   "cell_type": "code",
   "execution_count": 8,
   "metadata": {
    "collapsed": false
   },
   "outputs": [
    {
     "name": "stderr",
     "output_type": "stream",
     "text": [
      "[2016-12-28 20:04:51,571] Making new env: CartPole-v0\n",
      "[2016-12-28 20:04:51,579] Clearing 14 monitor files from previous run (because force=True was provided)\n"
     ]
    }
   ],
   "source": [
    "env = gym.make('CartPole-v0')\n",
    "path_to_recording = './tmp/CartPole-v0-Random-Search'\n",
    "env.monitor.start(path_to_recording, force=True)"
   ]
  },
  {
   "cell_type": "code",
   "execution_count": 9,
   "metadata": {
    "collapsed": false
   },
   "outputs": [],
   "source": [
    "state_space_size = env.observation_space.shape[0]\n",
    "get_rand_weights = lambda : np.random.random(4)"
   ]
  },
  {
   "cell_type": "code",
   "execution_count": 10,
   "metadata": {
    "collapsed": true
   },
   "outputs": [],
   "source": [
    "def run_episode(env, weights):\n",
    "    state = env.reset()\n",
    "    total_reward = 0.0\n",
    "    steps = 0.0\n",
    "    while True:\n",
    "        action = 0 if np.sum(state * weights) < 0 else 1\n",
    "        state_prime, reward, is_done, _ = env.step(action)\n",
    "        total_reward += reward\n",
    "        state = state_prime\n",
    "        steps += 1\n",
    "        if is_done or steps > 250:\n",
    "            break\n",
    "    return total_reward\n",
    "    "
   ]
  },
  {
   "cell_type": "code",
   "execution_count": 11,
   "metadata": {
    "collapsed": false
   },
   "outputs": [
    {
     "name": "stderr",
     "output_type": "stream",
     "text": [
      "[2016-12-28 20:04:53,722] Starting new video recorder writing to /Users/mwoods/Developer/open-ai-gym/tmp/CartPole-v0-Random-Search/openaigym.video.1.9482.video000000.mp4\n",
      "[2016-12-28 20:04:54,683] Starting new video recorder writing to /Users/mwoods/Developer/open-ai-gym/tmp/CartPole-v0-Random-Search/openaigym.video.1.9482.video000001.mp4\n"
     ]
    },
    {
     "name": "stdout",
     "output_type": "stream",
     "text": [
      "0 reward 79.0 best reward 79.0\n"
     ]
    },
    {
     "name": "stderr",
     "output_type": "stream",
     "text": [
      "[2016-12-28 20:04:55,026] Starting new video recorder writing to /Users/mwoods/Developer/open-ai-gym/tmp/CartPole-v0-Random-Search/openaigym.video.1.9482.video000008.mp4\n"
     ]
    },
    {
     "name": "stdout",
     "output_type": "stream",
     "text": [
      "1 reward 11.0 best reward 79.0\n",
      "2 reward 9.0 best reward 79.0\n",
      "3 reward 84.0 best reward 84.0\n",
      "4 reward 8.0 best reward 84.0\n",
      "5 reward 86.0 best reward 86.0\n",
      "6 reward 200.0 best reward 200.0\n",
      "found solution\n",
      "testing model\n",
      "weights [ 0.06505159  0.94888554  0.96563203  0.80839735]\n",
      "0 reward 200.0\n"
     ]
    },
    {
     "name": "stderr",
     "output_type": "stream",
     "text": [
      "[2016-12-28 20:04:57,683] Starting new video recorder writing to /Users/mwoods/Developer/open-ai-gym/tmp/CartPole-v0-Random-Search/openaigym.video.1.9482.video000027.mp4\n"
     ]
    },
    {
     "name": "stdout",
     "output_type": "stream",
     "text": [
      "10 reward 200.0\n"
     ]
    },
    {
     "name": "stderr",
     "output_type": "stream",
     "text": [
      "[2016-12-28 20:05:00,246] Starting new video recorder writing to /Users/mwoods/Developer/open-ai-gym/tmp/CartPole-v0-Random-Search/openaigym.video.1.9482.video000064.mp4\n"
     ]
    },
    {
     "name": "stdout",
     "output_type": "stream",
     "text": [
      "20 reward 200.0\n",
      "30 reward 200.0\n",
      "40 reward 200.0\n",
      "50 reward 200.0\n"
     ]
    },
    {
     "name": "stderr",
     "output_type": "stream",
     "text": [
      "[2016-12-28 20:05:02,955] Starting new video recorder writing to /Users/mwoods/Developer/open-ai-gym/tmp/CartPole-v0-Random-Search/openaigym.video.1.9482.video000125.mp4\n"
     ]
    },
    {
     "name": "stdout",
     "output_type": "stream",
     "text": [
      "60 reward 200.0\n",
      "70 reward 200.0\n",
      "80 reward 200.0\n",
      "90 reward 200.0\n",
      "100 reward 200.0\n",
      "110 reward 200.0\n",
      "120 reward 200.0\n",
      "130 reward 200.0\n",
      "140 reward 200.0\n",
      "150 reward 200.0\n",
      "160 reward 200.0\n",
      "170 reward 200.0\n",
      "180 reward 200.0\n",
      "190 reward 200.0\n"
     ]
    }
   ],
   "source": [
    "best_reward = 0.0\n",
    "best_weights = None\n",
    "for epoch in xrange(10000):\n",
    "    weights = get_rand_weights()\n",
    "    eps_reward = run_episode(env, weights)\n",
    "    if eps_reward > best_reward:\n",
    "        best_reward = eps_reward\n",
    "        best_weights = weights\n",
    "    print epoch, 'reward', eps_reward, 'best reward', best_reward\n",
    "    \n",
    "    if eps_reward > 199.0:\n",
    "        print 'found solution'\n",
    "        break\n",
    "\n",
    "print 'testing model'\n",
    "print 'weights', best_weights\n",
    "for i in range(200):\n",
    "    eps_reward = run_episode(env, best_weights)\n",
    "    if i %10 == 0:\n",
    "        print i, 'reward', eps_reward"
   ]
  },
  {
   "cell_type": "code",
   "execution_count": 12,
   "metadata": {
    "collapsed": false
   },
   "outputs": [],
   "source": [
    "def visualize(env, weights):\n",
    "    state = env.reset()\n",
    "    while True:\n",
    "        env.render()\n",
    "        action = 0 if np.sum(state * weights) < 0 else 1\n",
    "        state, _, _, _ = env.step(action)\n",
    "    "
   ]
  },
  {
   "cell_type": "code",
   "execution_count": 13,
   "metadata": {
    "collapsed": false
   },
   "outputs": [
    {
     "name": "stderr",
     "output_type": "stream",
     "text": [
      "[2016-12-28 20:05:18,732] Finished writing results. You can upload them to the scoreboard via gym.upload('/Users/mwoods/Developer/open-ai-gym/tmp/CartPole-v0-Random-Search')\n"
     ]
    }
   ],
   "source": [
    "env.monitor.close()"
   ]
  },
  {
   "cell_type": "code",
   "execution_count": null,
   "metadata": {
    "collapsed": true
   },
   "outputs": [],
   "source": []
  }
 ],
 "metadata": {
  "kernelspec": {
   "display_name": "Python 2",
   "language": "python",
   "name": "python2"
  },
  "language_info": {
   "codemirror_mode": {
    "name": "ipython",
    "version": 2
   },
   "file_extension": ".py",
   "mimetype": "text/x-python",
   "name": "python",
   "nbconvert_exporter": "python",
   "pygments_lexer": "ipython2",
   "version": "2.7.8"
  }
 },
 "nbformat": 4,
 "nbformat_minor": 2
}
